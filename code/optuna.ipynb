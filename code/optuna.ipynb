{
 "cells": [
  {
   "cell_type": "code",
   "execution_count": null,
   "metadata": {},
   "outputs": [],
   "source": [
    "import argparse\n",
    "from datetime import datetime\n",
    "import os\n",
    "from pathlib import Path\n",
    "import torch\n",
    "import torch.optim as optim\n",
    "import optuna\n",
    "from optuna.trial import TrialState\n",
    "\n",
    "from torch.nn import MSELoss, L1Loss\n",
    "from processing.solver import Solver\n",
    "import utils.utils_args as ut\n",
    "import preprocessing.preprocessing as prep\n",
    "from processing.networks.unetVariants import UNetNoPad2\n",
    "from main import read_cla\n",
    "from preprocessing.data_init import init_data, load_all_datasets_in_full\n",
    "from postprocessing.visualization import visualizations\n",
    "from postprocessing.measurements import measure_losses_paper24"
   ]
  },
  {
   "cell_type": "markdown",
   "metadata": {},
   "source": [
    "optuna:\n",
    "-x num_convs (1,2,3,4)\n",
    "-x complexity (=init_features) (2,64) (log)\n",
    "-x kernel_size (3,5,7)\n",
    "-x Adam weight decay (0, 1e-5)\n",
    "-x lr (1e-3, 1e-4, 1e-5)\n",
    "-x alpha: (0, 1, 0.5, 0.25, 0.75)\n",
    "    loss funciton: (1-alpha)*MSE+alpha*MAE\n",
    "-x batch size\n",
    "\n",
    "overall loss for comparison: MSE"
   ]
  },
  {
   "cell_type": "code",
   "execution_count": null,
   "metadata": {},
   "outputs": [],
   "source": [
    "def objective(trial):\n",
    "\n",
    "    # Get the dataset.\n",
    "    args[\"inputs\"] = \"pki\"\n",
    "    input_channels, output_channels, dataloaders = init_data(args)\n",
    "\n",
    "    # Generate the model.\n",
    "    depth = trial.suggest_categorical(\"depth\", [2, 3, 4, 5])\n",
    "    init_features = trial.suggest_categorical(\"init_features\", [16, 32, 64])\n",
    "    kernel_size = trial.suggest_int(\"kernel_size\", 3, 4, 5)\n",
    "\n",
    "    model = None\n",
    "\n",
    "    # Generate the optimizers.\n",
    "    lr = trial.suggest_categorical(\"lr\", [1e-3, 1e-4, 1e-5])\n",
    "    optimizer_name = trial.suggest_categorical(\"optimizer\", [\"Adam\"]) #, \"RMSprop\", \"SGD\"])\n",
    "    optimizer = getattr(optim, optimizer_name)(model.parameters(), lr=lr)\n",
    "\n",
    "    # Training of the model.\n",
    "    solver = Solver(model, dataloaders[\"train\"], dataloaders[\"val\"], loss_func=L1Loss(), opt=optimizer, learning_rate=lr)\n",
    "    try:\n",
    "        loss = solver.train(trial, args)\n",
    "        model.save(args[\"destination\"], model_name = f\"model_trial_{trial.number}.pt\")\n",
    "        solver.save_metrics(args[\"destination\"], model.num_of_params(), args[\"epochs\"], training_time, args[\"device\"])\n",
    "\n",
    "    except Exception as e:\n",
    "        print(f\"Training failed with exception: {e}\")\n",
    "        loss = 1\n",
    "\n",
    "    return loss"
   ]
  },
  {
   "cell_type": "markdown",
   "metadata": {},
   "source": [
    "# main"
   ]
  },
  {
   "cell_type": "code",
   "execution_count": null,
   "metadata": {},
   "outputs": [],
   "source": [
    "OUTPUT_DIR = Path(\"/scratch/e451412/outputs\")\n",
    "NAME_DIR = None\n",
    "args[\"destination\"] = OUTPUT_DIR / NAME_DIR\n",
    "\n",
    "study = optuna.create_study(direction=\"minimize\", storage=f\"sqlite:///{OUTPUT_DIR.as_posix()}/{args['destination'].name}/trials.db\", study_name=\"simplified_cnn\", load_if_exists=True)\n",
    "study.optimize(objective, n_trials=50)\n",
    "\n",
    "pruned_trials = study.get_trials(deepcopy=False, states=[TrialState.PRUNED])\n",
    "complete_trials = study.get_trials(deepcopy=False, states=[TrialState.COMPLETE])\n",
    "\n",
    "print(\"Study statistics: \")\n",
    "print(\"  Number of finished trials: \", len(study.trials))\n",
    "\n",
    "print(\"Best trial:\")\n",
    "print(\"  Value: \", study.best_trial.value)\n",
    "print(\"  Params: \")\n",
    "for key, value in study.best_trial.params.items():\n",
    "    print(\"    {}: {}\".format(key, value))"
   ]
  }
 ],
 "metadata": {
  "kernelspec": {
   "display_name": "Python 3",
   "language": "python",
   "name": "python3"
  },
  "language_info": {
   "name": "python",
   "version": "3.10.4"
  }
 },
 "nbformat": 4,
 "nbformat_minor": 2
}
